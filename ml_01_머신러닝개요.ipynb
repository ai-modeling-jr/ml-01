{
 "cells": [
  {
   "cell_type": "markdown",
   "metadata": {
    "id": "83-BXRyoTPQv"
   },
   "source": [
    "### 머신러닝(Machine Learning) 종류\n",
    "\n",
    "- 지도학습 (Supervised Learning)\n",
    "- 비지도학습 (Unsupervised Learning)\n",
    "- 강화학습 (Reinforcement Learning)\n"
   ]
  },
  {
   "cell_type": "markdown",
   "metadata": {
    "id": "UFEBkpUCToVw"
   },
   "source": [
    "지도학습 (Supervised Learning)\n",
    "\n",
    "- 데이터에 대한 Label(명시적인 답)이 주어진 상태에서 컴퓨터를 학습시키는 방법.\n",
    "\n",
    "- 분류(Classification)와 회귀(Regression)로 나뉘어진다.\n",
    "> (ex. 스팸 메일 분류, 집 가격 예측, 손글씨 숫자 판별, 신용카드 의심거래 감지, 의료영상 이미지기반 종양판단)\n"
   ]
  },
  {
   "cell_type": "markdown",
   "metadata": {
    "id": "lVyfBjNjT8Xt"
   },
   "source": [
    "비지도학습 (Unsupervised Learning)\n",
    "\n",
    "- 데이터에 대한 Label(명시적인 답)이 없는 상태에서 컴퓨터를 학습시키는 방법.\n",
    "\n",
    "- 데이터의 숨겨진 특징, 구조, 패턴 파악.\n",
    "\n",
    "- 데이터를 비슷한 특성끼리 묶는 클러스터링(Clustering)과 차원축소(Dimensionality Reduction)등이 있다.\n",
    "> (ex. 블로그 글 주제구분, 고객 취향별 그룹화, 웹사이트 비정상 접근 탐지, 이미지 감색 처리, 소비자 그룹 마케팅)\n",
    "\n",
    "좋은 입력 데이터를 만들어내는 방법 -> 특성추출(특성공학)\n"
   ]
  },
  {
   "cell_type": "markdown",
   "metadata": {
    "id": "kcXUmDjUUTjO"
   },
   "source": [
    "강화학습 (Reinforcement Learning)\n",
    "\n",
    "- 지도학습과 비슷하지만 완전한 답(Label)을 제공하지 않는 특징이 있다.\n",
    "\n",
    "- 기계는 더 많은 보상을 얻을 수 있는 방향으로 행동을 학습\n",
    "\n",
    "> (ex. 게임이나 로봇 학습)\n"
   ]
  },
  {
   "cell_type": "markdown",
   "metadata": {
    "id": "EiJ3i6uloi8c"
   },
   "source": [
    "머신러닝 vs 딥러닝\n",
    "\n",
    "|구분| Machine Learning| Deep Learning|\n",
    "|---|---|---|\n",
    "|훈련 데이터 크기| 작음| 큼|\n",
    "|시스템 성능| 저 사양| 고 사양|\n",
    "|feature 선택| 전문가 (사람) |알고리즘|\n",
    "|feature 수| 많음 |적음|\n",
    "|문제 해결 접근법| 문제를 분리 -> 각각 답을 얻음 -> 결과 통합| end-to-end (결과를 바로 얻음)|\n",
    "|실행 시간| 짧음 |김|\n",
    "|해석력 |해석 가능| 해석 어려움|"
   ]
  },
  {
   "cell_type": "markdown",
   "metadata": {
    "id": "Wf4lQ1hzUmsx"
   },
   "source": [
    "### [scikit-learn](https://scikit-learn.org/stable/index.html)\n",
    "\n",
    "- 파이썬에 머신러닝 프레임워크 라이브러리\n",
    "\n",
    "- 회귀, 분류, 군집, 차원축소, 특성공학, 전처리, 교차검증, 파이프라인 등 머신러닝에 필요한 기능 제공\n",
    "\n",
    "- 학습을 위한 샘플 데이터 제공\n"
   ]
  },
  {
   "cell_type": "markdown",
   "metadata": {
    "id": "1jePDfQLiMJM"
   },
   "source": [
    "#### scikit-learn으로 XOR 연산 학습해보기\n",
    "\n",
    "XOR연산?\n",
    "\n",
    "- 두값이 서로 같으면 0, 다르면 1  (배타적 논리 합)\n",
    "\n",
    "|P(입력)| Q(입력)| R(출력)|\n",
    "|---|---|---|\n",
    "| 0| 0| 0|\n",
    "| 0| 1| 1|\n",
    "| 1| 0| 1|\n",
    "| 1| 1| 0|\n"
   ]
  },
  {
   "cell_type": "code",
   "execution_count": null,
   "metadata": {
    "colab": {
     "base_uri": "https://localhost:8080/"
    },
    "id": "2xAnNAbTTLo_",
    "outputId": "78ca7af5-202d-4541-e3c5-fae532a82fa4"
   },
   "outputs": [],
   "source": [
    "from sklearn import svm\n",
    "\n",
    "# XOR의 계산 결과 데이터\n",
    "xor_input = [\n",
    "   # P, Q, R\n",
    "   [0, 0, 0],\n",
    "   [0, 1, 1],\n",
    "   [1, 0, 1],\n",
    "   [1, 1, 0]\n",
    "]\n",
    "\n",
    "# 학습을 위해 데이터와 레이블 분리하기 --- (※1)\n",
    "xor_data = []  # 문제\n",
    "xor_label = [] # 답\n",
    "for [p, q, r] in xor_input:\n",
    "  xor_data.append( [p, q] )\n",
    "  xor_label.append( r )\n",
    "\n",
    "# 데이터 학습시키기 --- (※2)\n",
    "model = svm.SVC()\n",
    "model.fit(xor_data, xor_label)\n",
    "\n",
    "# 데이터 예측하기 --- (※3)\n",
    "pre = model.predict(xor_data)\n",
    "print(\"예측데이터:\", xor_data)\n",
    "print(\"예측결과:\", pre)\n",
    "\n",
    "# 결과 확인하기 --- (※4)\n",
    "ok = 0\n",
    "for idx, answer in enumerate(xor_label):\n",
    "  p = pre[idx]\n",
    "  if p == answer:\n",
    "    ok += 1\n",
    "\n",
    "print(\"정답률:\", ok, \"/\", 4, \"=\", ok/4)"
   ]
  },
  {
   "cell_type": "code",
   "execution_count": null,
   "metadata": {
    "colab": {
     "base_uri": "https://localhost:8080/"
    },
    "id": "b5tr1SAwlhJe",
    "outputId": "20e9d2f0-7f44-453b-ee56-132e6046a2e7"
   },
   "outputs": [],
   "source": [
    "# pandas 라이브러리를 사용하여 코드 간략화\n",
    "import pandas as pd\n",
    "from sklearn import svm, metrics\n",
    "\n",
    "# XOR 연산\n",
    "xor_input = [\n",
    "   [0, 0, 0],\n",
    "   [0, 1, 1],\n",
    "   [1, 0, 1],\n",
    "   [1, 1, 0]\n",
    "]\n",
    "# 입력을 학습 전용 데이터와 테스트 전용 데이터로 분류하기 --- (※1)\n",
    "xor_df = pd.DataFrame(xor_input)\n",
    "xor_data = xor_df[[0, 1]]\n",
    "xor_label = xor_df[2]\n",
    "# 데이터 학습과 예측하기 --- (※2)\n",
    "model = svm.SVC()\n",
    "model.fit(xor_data, xor_label)\n",
    "pre = model.predict(xor_data)\n",
    "# 정답률 구하기 --- (※3)\n",
    "as_score = metrics.accuracy_score(xor_label, pre)\n",
    "print(as_score)\n"
   ]
  },
  {
   "cell_type": "code",
   "execution_count": null,
   "metadata": {
    "colab": {
     "base_uri": "https://localhost:8080/"
    },
    "id": "u_RAOvk1pZsd",
    "outputId": "a0a0a56f-067b-4cd8-9283-0ebbe72594f4"
   },
   "outputs": [],
   "source": [
    "# KNN 분류 모델을 이용\n",
    "import pandas as pd\n",
    "from sklearn import svm, metrics\n",
    "from sklearn.neighbors import KNeighborsClassifier\n",
    "\n",
    "# XOR 연산\n",
    "xor_input = [\n",
    "   [0, 0, 0],\n",
    "   [0, 1, 1],\n",
    "   [1, 0, 1],\n",
    "   [1, 1, 0]\n",
    "]\n",
    "# 입력을 학습 전용 데이터와 테스트 전용 데이터로 분류하기 --- (※1)\n",
    "xor_df = pd.DataFrame(xor_input)\n",
    "xor_data = xor_df[[0, 1]]\n",
    "xor_label = xor_df[2]\n",
    "# 데이터 학습과 예측하기 --- (※2)\n",
    "model = KNeighborsClassifier(n_neighbors=1)\n",
    "model.fit(xor_data, xor_label)\n",
    "pre = model.predict(xor_data)\n",
    "# 정답률 구하기 --- (※3)\n",
    "as_score = metrics.accuracy_score(xor_label, pre)\n",
    "print(as_score)\n"
   ]
  },
  {
   "cell_type": "markdown",
   "metadata": {
    "id": "Bz0d-Lj4qovy"
   },
   "source": [
    "진행순서\n",
    "\n",
    ">1. model = 머신러닝모델 생성  # svm.SVC() or KNeighborsClassifier(n_neighbors=1)\n",
    "1. model.fit(문제 , 답)\n",
    "1. 예측결과 = model.predict(값을 얻고 싶은 데이터 )\n",
    "1. ac_score = metrics.accuracy_score(실제답, 예측결과)\n",
    "\n",
    "clf (classifier) - scikit-learn 에서 [Estimator](https://en.wikipedia.org/wiki/Estimator) 인스턴스인 분류기를 지칭\n"
   ]
  },
  {
   "cell_type": "markdown",
   "metadata": {
    "id": "AfJQYJV5u_8R"
   },
   "source": [
    "[머신러닝 용어집](https://developers.google.com/machine-learning/glossary)"
   ]
  },
  {
   "cell_type": "markdown",
   "metadata": {
    "id": "Q_kZVFHf1SxC"
   },
   "source": [
    "#### 모델 저장과 불러오기 - pickle"
   ]
  },
  {
   "cell_type": "code",
   "execution_count": null,
   "metadata": {
    "id": "-AGaQ43_1PXw"
   },
   "outputs": [],
   "source": [
    "import pickle\n",
    "\n",
    "with open('xor_model.pkl', 'wb') as f:\n",
    "  pickle.dump(model, f)"
   ]
  },
  {
   "cell_type": "code",
   "execution_count": null,
   "metadata": {
    "colab": {
     "base_uri": "https://localhost:8080/"
    },
    "id": "oB5W8scW20CF",
    "outputId": "a54693ac-847d-4456-dc31-52c9d1061205"
   },
   "outputs": [],
   "source": [
    "import pickle\n",
    "\n",
    "with open('xor_model.pkl', 'rb') as f:\n",
    "  model = pickle.load(f)\n",
    "\n",
    "x_test = [[0,0],[1,0]]\n",
    "pre = model.predict(x_test)\n",
    "pre[0], pre[1]"
   ]
  },
  {
   "cell_type": "markdown",
   "metadata": {
    "id": "9kBBb96z3egM"
   },
   "source": [
    "#### 모델 저장과 불러오기 - joblib"
   ]
  },
  {
   "cell_type": "code",
   "execution_count": null,
   "metadata": {
    "colab": {
     "base_uri": "https://localhost:8080/"
    },
    "id": "HpYgPgNOs670",
    "outputId": "f4db8640-9512-4d75-944d-276d85ca5cfb"
   },
   "outputs": [],
   "source": [
    "!pip install joblib"
   ]
  },
  {
   "cell_type": "code",
   "execution_count": null,
   "metadata": {
    "colab": {
     "base_uri": "https://localhost:8080/"
    },
    "id": "abR36aP63BvO",
    "outputId": "36a6b2a4-fa6d-4436-b2e7-0fdcae66379a"
   },
   "outputs": [],
   "source": [
    "import joblib\n",
    "\n",
    "joblib.dump(model, 'xor_model_2.pkl')"
   ]
  },
  {
   "cell_type": "code",
   "execution_count": null,
   "metadata": {
    "id": "OtbBHw7U4Kpf"
   },
   "outputs": [],
   "source": [
    "import joblib\n",
    "\n",
    "model = joblib.load('xor_model_2.pkl')"
   ]
  },
  {
   "cell_type": "code",
   "execution_count": null,
   "metadata": {
    "colab": {
     "base_uri": "https://localhost:8080/"
    },
    "id": "HA6X-EE1CZhL",
    "outputId": "16ef823e-f844-4ddc-e2be-1f7b92375245"
   },
   "outputs": [],
   "source": [
    "x_test2 = [[1,1],[0,1]]\n",
    "pre = model.predict(x_test2)\n",
    "pre[0], pre[1]"
   ]
  },
  {
   "cell_type": "markdown",
   "metadata": {
    "id": "l12FSyxUw0IX"
   },
   "source": [
    "#### scikit-learn 연습 01\n",
    "\n",
    "AND 연산 모델 작성\n",
    "\n",
    "AND연산?\n",
    "\n",
    "- 두값이 서로 참이면 1, 아니면 0\n",
    "\n",
    "|P(입력)| Q(입력)| R(출력)|\n",
    "|---|---|---|\n",
    "| 0| 0| 0|\n",
    "| 0| 1| 0|\n",
    "| 1| 0| 0|\n",
    "| 1| 1| 1|"
   ]
  },
  {
   "cell_type": "code",
   "execution_count": null,
   "metadata": {
    "colab": {
     "base_uri": "https://localhost:8080/"
    },
    "id": "fI8JO2JWalgC",
    "outputId": "4a7ba496-f2a6-4011-ff1b-f9fc1e2f125f"
   },
   "outputs": [],
   "source": [
    "# KNN 분류 모델을 이용\n",
    "\n",
    "# AND 연산\n",
    "\n",
    "# 입력을 학습 전용 데이터와 테스트 전용 데이터로 분류하기 --- (※1)\n",
    "\n",
    "# 데이터 학습과 예측하기 --- (※2)\n",
    "\n",
    "# 정답률 구하기 --- (※3)\n"
   ]
  },
  {
   "cell_type": "markdown",
   "metadata": {
    "id": "UohtQMQOkFGS"
   },
   "source": [
    "#### 분류? 회귀?\n",
    "\n",
    "- 같은 종류의 꽃(붓꽃)을 세 품종 중 하나로 예측하는 것\n",
    "- 이메일에서 스팸 메일을 예측하는 것\n",
    "- 웹사이트의 글로부터 어떤 언어의 웹사이트인지 예측하는 것\n",
    "- 어떤 사람의 교육수준, 나이, 주거지를 바탕으로 연간 소득을 예측하는 것\n",
    "- 옥수수 농장에서 전년도 수확량과 날씨, 고용 인원수 등으로 올해 수확량을 예측하는 것\n",
    "- 다음 학기 성적 점수를 예측하는 것\n",
    "- 키와 몸무게를 가지고 비만도를 예측하는 것"
   ]
  },
  {
   "cell_type": "markdown",
   "metadata": {
    "id": "ulNYSJJHbeXU"
   },
   "source": [
    "#### scikit-learn 연습 02\n",
    "\n",
    "비만도 데이터 학습\n",
    "\n",
    "- 500명의 키와 몸무게, 비만도 라벨을 이용해 비만을 판단하는 모델을 만들어보자."
   ]
  },
  {
   "cell_type": "code",
   "execution_count": null,
   "metadata": {
    "colab": {
     "base_uri": "https://localhost:8080/",
     "height": 237
    },
    "id": "3LOS1fxAcD8Z",
    "outputId": "7d4e03eb-53b9-4c6a-923f-844b2cabc338"
   },
   "outputs": [],
   "source": []
  },
  {
   "cell_type": "markdown",
   "metadata": {
    "id": "cT7jVPF6V3Kp"
   },
   "source": [
    "#### scikit-learn 연습 02"
   ]
  },
  {
   "cell_type": "code",
   "execution_count": null,
   "metadata": {
    "colab": {
     "base_uri": "https://localhost:8080/"
    },
    "id": "-CGmxoeFWOT6",
    "outputId": "01c756bf-9350-4070-c25e-7c21a9988e27"
   },
   "outputs": [],
   "source": []
  },
  {
   "cell_type": "code",
   "execution_count": null,
   "metadata": {
    "colab": {
     "base_uri": "https://localhost:8080/",
     "height": 482
    },
    "id": "yJcervNSDAZl",
    "outputId": "d5246c3c-ca6d-491f-e924-d6f9e7f22faa"
   },
   "outputs": [],
   "source": []
  },
  {
   "cell_type": "markdown",
   "metadata": {
    "id": "uj2HmT3HWOya"
   },
   "source": [
    "모델링\n",
    "\n",
    "1. 문제와 답으로 분리\n",
    "\n",
    "2. 훈련셋과 평가셋으로 분리\n",
    "\n",
    "3. 모델생성 및 하이퍼파라미터 조정\n",
    "\n",
    "4. 학습 및 평가"
   ]
  },
  {
   "cell_type": "code",
   "execution_count": null,
   "metadata": {
    "colab": {
     "base_uri": "https://localhost:8080/"
    },
    "id": "UbE-SMNzVtOx",
    "outputId": "95072747-31a6-4768-b04f-c79f030075dd"
   },
   "outputs": [],
   "source": []
  },
  {
   "cell_type": "code",
   "execution_count": null,
   "metadata": {
    "colab": {
     "base_uri": "https://localhost:8080/"
    },
    "id": "79HlbPZMEy24",
    "outputId": "af864766-78d1-4ee8-a250-b8cf2fddaa9a"
   },
   "outputs": [],
   "source": []
  },
  {
   "cell_type": "code",
   "execution_count": null,
   "metadata": {
    "colab": {
     "base_uri": "https://localhost:8080/"
    },
    "id": "2qpcg8oAVtzR",
    "outputId": "a60ee4f5-0ee4-4713-e501-50ca8f38e191"
   },
   "outputs": [],
   "source": [
    "# 키 185, 몸무게 43 와 키 100, 몸무게 20의 비만도 라벨을 예측"
   ]
  },
  {
   "cell_type": "markdown",
   "metadata": {
    "id": "78ukD-195M_p"
   },
   "source": [
    "### 머신러닝(Machine Learning) 진행 과정\n",
    "\n",
    "1. ProblemIdentification (문제정의)\n",
    "2. Data Collect(데이터 수집)\n",
    "3. Data Preprocessing(데이터 전처리)\n",
    "4. EDA(탐색적 데이터분석)\n",
    "5. Model 선택, Hyper Parameter 조정\n",
    "6. 학습\n",
    "7. 모델 Evaluation(평가)\n"
   ]
  },
  {
   "cell_type": "markdown",
   "metadata": {
    "id": "-I4zA6pOMk9Z"
   },
   "source": [
    "1. 문제정의\n",
    " - 지도학습 : 분류, 회귀\n",
    " - 비지도학습 : 군집, 차원축소\n",
    " - 강화학습\n",
    "\n",
    "2. 데이터 수집\n",
    " - File Data, Database, 공공데이터, kaggle\n",
    " - Web Crawler (뉴스, SNS, 블로그)\n",
    " - IoT 센서를 통한 수집\n",
    "\n",
    "3. 데이터 전처리\n",
    " - 결측치, 이상치 수정\n",
    " - Encoding : Categorical Data를 수치 데이터로 변경, 원핫인코딩\n",
    " - Feature Engineering (특성공학) : 단위 변환, 새로운 속성 추가 (MinMaxScaler, StandardScaler, RobustScaler)\n",
    "\n",
    "4. EDA\n",
    " - 시각화를 통해 특성 선택 : (scatterplot, pairplot, boxplot, heatmap)\n",
    " - 사용할 Feature 선택 : 전처리 전략수립\n",
    "\n",
    "5. Model 선택, Hyper Parameter 조정\n",
    " - 목적에 맞는 적절한 모델 선택\n",
    "  - 지도학습\n",
    "\t - 분류 : knn, Logistic Regression, SVM, Decision Tree, RandomForest, GradientBoosting\n",
    "\t - 회귀 : knn, Linear Regression, Lasso, Ridge, Decision Tree, RandomForest, GradientBoosting\n",
    " - 하이퍼파라미터 튜닝\n",
    "\n",
    "6. 학습\n",
    " - model.fit(X_train, y_train) : train 데이터와 test 데이터를 7:3 정도로 나눔 (train_test_split)\n",
    " - model.predict(X_test) :  (cross_val_score)\n",
    "\n",
    "7. 평가\n",
    " -\t지도학습\n",
    "\t - 분류 : 정확도, 정밀도, 재현율, f1-score\n",
    "\t - 회귀 : R^2, MSE, RMSE\n",
    "\n",
    " -\t비지도학습\n",
    "\t- ARI 값"
   ]
  }
 ],
 "metadata": {
  "colab": {
   "provenance": []
  },
  "kernelspec": {
   "display_name": "Python 3 (ipykernel)",
   "language": "python",
   "name": "python3"
  },
  "language_info": {
   "codemirror_mode": {
    "name": "ipython",
    "version": 3
   },
   "file_extension": ".py",
   "mimetype": "text/x-python",
   "name": "python",
   "nbconvert_exporter": "python",
   "pygments_lexer": "ipython3",
   "version": "3.12.3"
  }
 },
 "nbformat": 4,
 "nbformat_minor": 4
}
